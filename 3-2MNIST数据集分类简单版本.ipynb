{
 "cells": [
  {
   "cell_type": "code",
   "execution_count": 3,
   "metadata": {},
   "outputs": [],
   "source": [
    "import tensorflow as tf\n",
    "from tensorflow.examples.tutorials.mnist import input_data"
   ]
  },
  {
   "cell_type": "code",
   "execution_count": 6,
   "metadata": {},
   "outputs": [
    {
     "name": "stdout",
     "output_type": "stream",
     "text": [
      "Extracting MNIST_data/train-images-idx3-ubyte.gz\n",
      "Extracting MNIST_data/train-labels-idx1-ubyte.gz\n",
      "Extracting MNIST_data/t10k-images-idx3-ubyte.gz\n",
      "Extracting MNIST_data/t10k-labels-idx1-ubyte.gz\n",
      "iter0,Testing Accuracy0.8301\n",
      "iter1,Testing Accuracy0.8699\n",
      "iter2,Testing Accuracy0.8809\n",
      "iter3,Testing Accuracy0.8878\n",
      "iter4,Testing Accuracy0.8946\n",
      "iter5,Testing Accuracy0.8963\n",
      "iter6,Testing Accuracy0.8993\n",
      "iter7,Testing Accuracy0.901\n",
      "iter8,Testing Accuracy0.9037\n",
      "iter9,Testing Accuracy0.9053\n",
      "iter10,Testing Accuracy0.906\n",
      "iter11,Testing Accuracy0.9074\n",
      "iter12,Testing Accuracy0.9086\n",
      "iter13,Testing Accuracy0.9093\n",
      "iter14,Testing Accuracy0.9094\n",
      "iter15,Testing Accuracy0.9108\n",
      "iter16,Testing Accuracy0.9117\n",
      "iter17,Testing Accuracy0.9127\n",
      "iter18,Testing Accuracy0.9133\n",
      "iter19,Testing Accuracy0.9132\n",
      "iter20,Testing Accuracy0.914\n"
     ]
    }
   ],
   "source": [
    "# 引入数据集\n",
    "# one_hot = true 要么为0要么为1\n",
    "mnist = input_data.read_data_sets(\"MNIST_data\",one_hot = True)\n",
    "\n",
    "# 每个批次的大小\n",
    "batch_size = 100\n",
    "# 计算一共有多少个批次\n",
    "n_batch = mnist.train.num_examples // batch_size\n",
    "\n",
    "# 定义两个placeholder\n",
    "# None代表任意值 \n",
    "x = tf.placeholder(tf.float32,[None,784])\n",
    "y = tf.placeholder(tf.float32,[None,10])\n",
    "\n",
    "# 创建一个简单的神经网络\n",
    "weight = tf.Variable(tf.zeros([784,10]))\n",
    "biases = tf.Variable(tf.zeros([10]))\n",
    "# softmax e^n/求和e^i\n",
    "prediction = tf.nn.softmax(tf.matmul(x,weight) + biases)\n",
    "\n",
    "# 二次代价函数\n",
    "loss = tf.reduce_mean(tf.square(y - prediction))\n",
    "\n",
    "# 使用梯度下降法\n",
    "train_step = tf.train.GradientDescentOptimizer(0.2).minimize(loss)\n",
    "\n",
    "# 初始化变量\n",
    "init = tf.global_variables_initializer()\n",
    "\n",
    "# tf.equal比较两个数是否相等，相等为ture tf.argmax返回是y的index 0是按列取 1是按行取\n",
    "correct_prediction = tf.equal(tf.argmax(y,1),tf.argmax(prediction,1))\n",
    "\n",
    "# 求准确率\n",
    "# 转化函数tf.cast(correct_prediction,tf.float32) true = 1,false = 0\n",
    "accuracy = tf.reduce_mean(tf.cast(correct_prediction,tf.float32))\n",
    "\n",
    "with tf.Session() as sess:\n",
    "    sess.run(init)\n",
    "    #21个周期\n",
    "    for epoch in range(21):\n",
    "        for batch in range(n_batch):\n",
    "            batch_xs,batch_ys = mnist.train.next_batch(batch_size)\n",
    "            sess.run(train_step,feed_dict ={x: batch_xs, y:batch_ys})\n",
    "        acc = sess.run(accuracy,feed_dict = {x:mnist.test.images, y:mnist.test.labels})\n",
    "        print(\"iter\" + str(epoch) + \",Testing Accuracy\" + str(acc))\n",
    "            "
   ]
  },
  {
   "cell_type": "code",
   "execution_count": null,
   "metadata": {},
   "outputs": [],
   "source": []
  }
 ],
 "metadata": {
  "kernelspec": {
   "display_name": "Python 3",
   "language": "python",
   "name": "python3"
  },
  "language_info": {
   "codemirror_mode": {
    "name": "ipython",
    "version": 3
   },
   "file_extension": ".py",
   "mimetype": "text/x-python",
   "name": "python",
   "nbconvert_exporter": "python",
   "pygments_lexer": "ipython3",
   "version": "3.7.1"
  }
 },
 "nbformat": 4,
 "nbformat_minor": 2
}
